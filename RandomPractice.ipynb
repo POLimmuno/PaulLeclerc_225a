{
  "nbformat": 4,
  "nbformat_minor": 0,
  "metadata": {
    "colab": {
      "provenance": [],
      "authorship_tag": "ABX9TyNdL0WG0RYb/PS6G0ID9X47",
      "include_colab_link": true
    },
    "kernelspec": {
      "name": "python3",
      "display_name": "Python 3"
    },
    "language_info": {
      "name": "python"
    }
  },
  "cells": [
    {
      "cell_type": "markdown",
      "metadata": {
        "id": "view-in-github",
        "colab_type": "text"
      },
      "source": [
        "<a href=\"https://colab.research.google.com/github/POLimmuno/PaulLeclerc_225a/blob/main/RandomPractice.ipynb\" target=\"_parent\"><img src=\"https://colab.research.google.com/assets/colab-badge.svg\" alt=\"Open In Colab\"/></a>"
      ]
    },
    {
      "cell_type": "code",
      "source": [
        "import pandas as pd"
      ],
      "metadata": {
        "id": "_6BoqXQye6UJ"
      },
      "execution_count": 1,
      "outputs": []
    },
    {
      "cell_type": "markdown",
      "source": [
        "I am practicing how to commit and push to Github.\n",
        "Throwing random Python code just for fun to practice."
      ],
      "metadata": {
        "id": "fmFtVXfudeR8"
      }
    },
    {
      "cell_type": "code",
      "source": [
        "print('Hello user. you are here to divide two numbers and then get the sqaure of the result')\n",
        "x = int(input(\"Please enter the numerator\"))\n",
        "y = int(input(\"Please enter the denominator\"))\n",
        "while y == 0:\n",
        "  y = int(input(\"Can't divide by 0. Please enter a new denominator\"))\n",
        "result = (x/y)**2\n",
        "print(f\"({x}/{y})^2 = {result}\")"
      ],
      "metadata": {
        "colab": {
          "base_uri": "https://localhost:8080/"
        },
        "id": "_ZMSS7IndqcT",
        "outputId": "22b72b4a-9eba-480e-f36f-b160a6baa266"
      },
      "execution_count": 5,
      "outputs": [
        {
          "output_type": "stream",
          "name": "stdout",
          "text": [
            "Hello user. you are here to divide two numbers and then get the sqaure of the result\n",
            "Please enter the numerator12\n",
            "Please enter the denominator0\n",
            "Can't divide by 0. Please enter a new denominator0\n",
            "Can't divide by 0. Please enter a new denominator0\n",
            "Can't divide by 0. Please enter a new denominator4\n",
            "(12/4)^2 = 9.0\n"
          ]
        }
      ]
    }
  ]
}